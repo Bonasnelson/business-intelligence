{
 "cells": [
  {
   "cell_type": "code",
   "execution_count": 4,
   "metadata": {},
   "outputs": [],
   "source": [
    "from imp import reload\n",
    "import petl as etl, psycopg2 as pg, sys, sqlalchemy as sqla\n",
    "\n",
    "import pymysql\n",
    "import sys\n",
    "import schedule\n",
    "import time\n"
   ]
  },
  {
   "cell_type": "code",
   "execution_count": 3,
   "metadata": {},
   "outputs": [
    {
     "name": "stdout",
     "output_type": "stream",
     "text": [
      "Connected to DB: localhost\n",
      "Succuessfully loaded the table from csv.\n"
     ]
    }
   ],
   "source": [
    "\n",
    "def csv_to_mysql(load_query, host, user, password):\n",
    "\n",
    "    try:\n",
    "        con = pymysql.connect(host=host,\n",
    "                                user=user,\n",
    "                                password=password,\n",
    "                                autocommit=True,\n",
    "                                local_infile=1)\n",
    "        print('Connected to DB: {}'.format(host))\n",
    "        # Create cursor and execute Load SQL\n",
    "        cursor = con.cursor()\n",
    "        cursor.execute(load_query)\n",
    "        print('Succuessfully loaded the table from csv.')\n",
    "        con.close()\n",
    "        \n",
    "    except Exception as e:\n",
    "        print('Error: {}'.format(str(e)))\n",
    "        sys.exit(1)\n",
    "\n",
    "\n",
    "load_query = \"\"\"LOAD DATA LOCAL INFILE 'C:/Users/Bonas Nelson/Documents/BI/datasets/vgsales.csv' INTO TABLE football.game\\\n",
    " FIELDS TERMINATED BY ',' ENCLOSED BY  '\"' IGNORE 1 ROWS;\"\"\"\n",
    "host = 'localhost'\n",
    "user = 'root'\n",
    "password = ''\n",
    "\n",
    "csv_to_mysql(load_query, host, user, password)"
   ]
  },
  {
   "cell_type": "code",
   "execution_count": 5,
   "metadata": {},
   "outputs": [
    {
     "name": "stdout",
     "output_type": "stream",
     "text": [
      "I'm working...\n",
      "I'm working...\n",
      "I'm working...\n",
      "I'm working...\n",
      "I'm working...\n",
      "I'm working...\n",
      "I'm working...\n",
      "I'm working...\n",
      "I'm working...\n",
      "I'm working...\n",
      "I'm working...\n",
      "I'm working...\n",
      "I'm working...\n",
      "I'm working...\n",
      "I'm working...\n",
      "I'm working...\n",
      "I'm working...\n",
      "I'm working...\n",
      "I'm working...\n",
      "I'm working...\n",
      "I'm working...\n",
      "I'm working...\n",
      "I'm working...\n",
      "I'm working...\n",
      "I'm working...\n",
      "I'm working...\n",
      "I'm working...\n",
      "I'm working...\n",
      "I'm working...\n"
     ]
    },
    {
     "ename": "KeyboardInterrupt",
     "evalue": "",
     "output_type": "error",
     "traceback": [
      "\u001b[1;31m---------------------------------------------------------------------------\u001b[0m",
      "\u001b[1;31mKeyboardInterrupt\u001b[0m                         Traceback (most recent call last)",
      "\u001b[1;32mc:\\Users\\Bonas Nelson\\Documents\\BI\\simple_ETL.ipynb Cell 3'\u001b[0m in \u001b[0;36m<cell line: 14>\u001b[1;34m()\u001b[0m\n\u001b[0;32m     <a href='vscode-notebook-cell:/c%3A/Users/Bonas%20Nelson/Documents/BI/simple_ETL.ipynb#ch0000002?line=12'>13</a>\u001b[0m \u001b[39mwhile\u001b[39;00m \u001b[39mTrue\u001b[39;00m:\n\u001b[0;32m     <a href='vscode-notebook-cell:/c%3A/Users/Bonas%20Nelson/Documents/BI/simple_ETL.ipynb#ch0000002?line=13'>14</a>\u001b[0m     schedule\u001b[39m.\u001b[39mrun_pending()\n\u001b[1;32m---> <a href='vscode-notebook-cell:/c%3A/Users/Bonas%20Nelson/Documents/BI/simple_ETL.ipynb#ch0000002?line=14'>15</a>\u001b[0m     time\u001b[39m.\u001b[39;49msleep(\u001b[39m1\u001b[39;49m)\n",
      "\u001b[1;31mKeyboardInterrupt\u001b[0m: "
     ]
    }
   ],
   "source": [
    "\n",
    "\n",
    "def job():\n",
    "    print(\"I'm working...\")\n",
    "\n",
    "schedule.every(10).seconds.do(job)\n",
    "# schedule.every(10).minutes.do(job)\n",
    "# schedule.every().hour.do(job)\n",
    "# schedule.every().day.at(\"10:30\").do(job)\n",
    "# schedule.every(5).to(10).minutes.do(job)\n",
    "# schedule.every().monday.do(job)\n",
    "# schedule.every().wednesday.at(\"13:15\").do(job)\n",
    "# schedule.every().minute.at(\":17\").do(job)\n",
    "\n",
    "while True:\n",
    "    schedule.run_pending()\n",
    "    time.sleep(1)\n",
    "\t\n",
    "\t"
   ]
  }
 ],
 "metadata": {
  "interpreter": {
   "hash": "aa7146d4c1a12161272e7931a5de19d4c46ea1ea93acbb11666f6ac8b35f8224"
  },
  "kernelspec": {
   "display_name": "Python 3.9.2 64-bit",
   "language": "python",
   "name": "python3"
  },
  "language_info": {
   "codemirror_mode": {
    "name": "ipython",
    "version": 3
   },
   "file_extension": ".py",
   "mimetype": "text/x-python",
   "name": "python",
   "nbconvert_exporter": "python",
   "pygments_lexer": "ipython3",
   "version": "3.9.2"
  },
  "orig_nbformat": 4
 },
 "nbformat": 4,
 "nbformat_minor": 2
}
